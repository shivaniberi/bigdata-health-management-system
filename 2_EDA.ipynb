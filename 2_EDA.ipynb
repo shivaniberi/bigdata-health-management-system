{
 "cells": [
  {
   "cell_type": "code",
   "execution_count": 21,
   "id": "1b1f2318-de89-4c94-8d28-035861b4dfd6",
   "metadata": {},
   "outputs": [
    {
     "name": "stdout",
     "output_type": "stream",
     "text": [
      "Requirement already satisfied: pyspark in /usr/local/lib/python3.10/site-packages (3.5.5)\n",
      "Requirement already satisfied: py4j==0.10.9.7 in /usr/local/lib/python3.10/site-packages (from pyspark) (0.10.9.7)\n",
      "\n",
      "\u001b[1m[\u001b[0m\u001b[34;49mnotice\u001b[0m\u001b[1;39;49m]\u001b[0m\u001b[39;49m A new release of pip is available: \u001b[0m\u001b[31;49m25.1\u001b[0m\u001b[39;49m -> \u001b[0m\u001b[32;49m25.1.1\u001b[0m\n",
      "\u001b[1m[\u001b[0m\u001b[34;49mnotice\u001b[0m\u001b[1;39;49m]\u001b[0m\u001b[39;49m To update, run: \u001b[0m\u001b[32;49m/usr/local/opt/python@3.10/bin/python3.10 -m pip install --upgrade pip\u001b[0m\n"
     ]
    }
   ],
   "source": [
    "!pip install pyspark\n"
   ]
  },
  {
   "cell_type": "code",
   "execution_count": 1,
   "id": "6868fae7-0e61-451d-8750-91cca145f07d",
   "metadata": {},
   "outputs": [
    {
     "name": "stdout",
     "output_type": "stream",
     "text": [
      "/usr/local/bin/python3.10\n"
     ]
    }
   ],
   "source": [
    "!which python3.10\n"
   ]
  },
  {
   "cell_type": "code",
   "execution_count": 2,
   "id": "51930423-d773-406a-a66f-a382d87cf0e5",
   "metadata": {},
   "outputs": [],
   "source": [
    "import os\n",
    "\n",
    "os.environ[\"PYSPARK_PYTHON\"] = \"/usr/local/bin/python3.10\"         # Path to Python 3.10\n",
    "os.environ[\"PYSPARK_DRIVER_PYTHON\"] = \"/usr/local/bin/python3.10\"\n"
   ]
  },
  {
   "cell_type": "code",
   "execution_count": 3,
   "id": "da998568-853c-4e5c-8cc0-507a5bf1f869",
   "metadata": {},
   "outputs": [
    {
     "name": "stderr",
     "output_type": "stream",
     "text": [
      "Setting default log level to \"WARN\".\n",
      "To adjust logging level use sc.setLogLevel(newLevel). For SparkR, use setLogLevel(newLevel).\n",
      "25/05/05 18:10:35 WARN NativeCodeLoader: Unable to load native-hadoop library for your platform... using builtin-java classes where applicable\n"
     ]
    }
   ],
   "source": [
    "from pyspark.sql import SparkSession\n",
    "\n",
    "spark = SparkSession.builder.appName(\"IoT Health Data EDA\").config(\"spark.hadoop.fs.defaultFS\", \"hdfs://localhost:9000\").getOrCreate()"
   ]
  },
  {
   "cell_type": "code",
   "execution_count": 4,
   "id": "3c8cce8a-04be-41cc-82a6-8c34dda7c3b0",
   "metadata": {},
   "outputs": [
    {
     "name": "stderr",
     "output_type": "stream",
     "text": [
      "                                                                                \r"
     ]
    },
    {
     "name": "stdout",
     "output_type": "stream",
     "text": [
      "+-----------+---+------+----------+-------------+---------+----+----------+-----+-------+-----------+----------+--------------+-----------------+-------------------+-----------+------------+-----------+-----+--------------+--------------+-----------------+----+------+\n",
      "|    user_id|age|gender| datestamp|height_inches|weight_kg| bmi|heart_rate| spo2|ecg_avg|body_temp_f|step_count|calories_burnt|sleep_duration_hr|sleep_quality_score|systolic_bp|diastolic_bp|day_of_week|month|pulse_pressure|activity_level|health_risk_score|year|season|\n",
      "+-----------+---+------+----------+-------------+---------+----+----------+-----+-------+-----------+----------+--------------+-----------------+-------------------+-----------+------------+-----------+-----+--------------+--------------+-----------------+----+------+\n",
      "|user_000000| 24|Female|2022-01-01|         65.1|     97.9|35.8|      74.0| 99.2|   59.8|       97.8|      4544|          1866|              7.4|                8.3|        133|          83|          7|    1|            50|     Sedentary|                4|2022|Winter|\n",
      "|user_000000| 24|Female|2022-01-02|         65.1|     97.9|35.8|      64.7| 99.9|   61.4|       97.4|      3213|          1777|              5.9|                7.6|        136|          83|          1|    1|            53|     Sedentary|                4|2022|Winter|\n",
      "|user_000000| 24|Female|2022-01-03|         65.1|     97.9|35.8|      78.8|100.0|   48.4|       97.7|      3717|          1815|              6.8|                8.0|        134|          82|          2|    1|            52|     Sedentary|                4|2022|Winter|\n",
      "|user_000000| 24|Female|2022-01-04|         65.1|     97.9|35.8|      76.7| 99.0|   57.3|       97.4|      2746|          1761|              7.1|                5.2|        136|          88|          3|    1|            48|     Sedentary|                4|2022|Winter|\n",
      "|user_000000| 24|Female|2022-01-05|         65.1|     97.9|35.8|      70.3| 99.8|   56.0|       98.0|      5519|          1878|              7.7|                6.5|        120|          80|          4|    1|            40|      Moderate|                3|2022|Winter|\n",
      "+-----------+---+------+----------+-------------+---------+----+----------+-----+-------+-----------+----------+--------------+-----------------+-------------------+-----------+------------+-----------+-----+--------------+--------------+-----------------+----+------+\n",
      "only showing top 5 rows\n",
      "\n",
      "root\n",
      " |-- user_id: string (nullable = true)\n",
      " |-- age: integer (nullable = true)\n",
      " |-- gender: string (nullable = true)\n",
      " |-- datestamp: date (nullable = true)\n",
      " |-- height_inches: double (nullable = true)\n",
      " |-- weight_kg: double (nullable = true)\n",
      " |-- bmi: double (nullable = true)\n",
      " |-- heart_rate: double (nullable = true)\n",
      " |-- spo2: double (nullable = true)\n",
      " |-- ecg_avg: double (nullable = true)\n",
      " |-- body_temp_f: double (nullable = true)\n",
      " |-- step_count: integer (nullable = true)\n",
      " |-- calories_burnt: integer (nullable = true)\n",
      " |-- sleep_duration_hr: double (nullable = true)\n",
      " |-- sleep_quality_score: double (nullable = true)\n",
      " |-- systolic_bp: integer (nullable = true)\n",
      " |-- diastolic_bp: integer (nullable = true)\n",
      " |-- day_of_week: integer (nullable = true)\n",
      " |-- month: integer (nullable = true)\n",
      " |-- pulse_pressure: integer (nullable = true)\n",
      " |-- activity_level: string (nullable = true)\n",
      " |-- health_risk_score: integer (nullable = true)\n",
      " |-- year: integer (nullable = true)\n",
      " |-- season: string (nullable = true)\n",
      "\n"
     ]
    }
   ],
   "source": [
    "# Read the CSV file with the pipe delimiter (|) and infer the schema automatically\n",
    "df_full = spark.read.csv(\n",
    "    \"hdfs://localhost:9000/iot/health_dataset/processed/health_data_20250429.csv\",\n",
    "    header=True,       # Use the first row as the header\n",
    "    sep=\"|\",           # Set the delimiter to '|'\n",
    "    inferSchema=True   # Automatically infer the schema\n",
    ")\n",
    "\n",
    "# Show the first few rows to verify the data\n",
    "df_full.show(5)\n",
    "\n",
    "# Print the schema to see the inferred types\n",
    "df_full.printSchema()"
   ]
  },
  {
   "cell_type": "code",
   "execution_count": 3,
   "id": "4a014ab3-21dd-4bc8-83f3-68b872ad3166",
   "metadata": {},
   "outputs": [
    {
     "name": "stderr",
     "output_type": "stream",
     "text": [
      "[Stage 3:======================================================>(130 + 1) / 131]\r"
     ]
    },
    {
     "name": "stdout",
     "output_type": "stream",
     "text": [
      "Total number of rows: 141384000\n"
     ]
    },
    {
     "name": "stderr",
     "output_type": "stream",
     "text": [
      "                                                                                \r"
     ]
    }
   ],
   "source": [
    "# Count the number of rows in the DataFrame\n",
    "row_count = df_full.count()\n",
    "\n",
    "# Print the row count\n",
    "print(f\"Total number of rows: {row_count}\")"
   ]
  },
  {
   "cell_type": "code",
   "execution_count": 5,
   "id": "f307d92c-a129-4c6b-bbd2-d05b92e0ee19",
   "metadata": {},
   "outputs": [
    {
     "name": "stderr",
     "output_type": "stream",
     "text": [
      "[Stage 6:======================================================>(130 + 1) / 131]\r"
     ]
    },
    {
     "name": "stdout",
     "output_type": "stream",
     "text": [
      "+--------------+---------------------+------------------+------------------+-----------------+-----------------+-----------------------+-----------------+------------------+\n",
      "|activity_level|avg_health_risk_score|           avg_bmi|   avg_systolic_bp| avg_diastolic_bp|   avg_heart_rate|avg_sleep_quality_score|         avg_spo2|avg_pulse_pressure|\n",
      "+--------------+---------------------+------------------+------------------+-----------------+-----------------+-----------------------+-----------------+------------------+\n",
      "|        Active|    2.414945849713073|29.219232426711745| 118.6337381996837|78.21431300402692|68.25350774709905|      7.482182295770849|97.48747027527995| 40.41942519565679|\n",
      "|      Moderate|   2.5376023984743314| 29.57135934767827|120.77193467958027|79.60334915825256|68.22236110218715|      7.415539800367009|  97.480127209262| 41.16858552132772|\n",
      "|     Sedentary|    2.691499705299768|28.967660423784736| 126.4562962345867|83.35842479935671|68.44270207427527|      7.084196597740038| 97.4842645820788| 43.09787143522999|\n",
      "+--------------+---------------------+------------------+------------------+-----------------+-----------------+-----------------------+-----------------+------------------+\n",
      "\n"
     ]
    },
    {
     "name": "stderr",
     "output_type": "stream",
     "text": [
      "                                                                                \r"
     ]
    }
   ],
   "source": [
    "from pyspark.sql import functions as F\n",
    "\n",
    "# Aggregating by activity level to analyze metrics\n",
    "activity_level_agg = df_full.groupBy(\"activity_level\").agg(\n",
    "    F.avg(\"health_risk_score\").alias(\"avg_health_risk_score\"),\n",
    "    F.avg(\"bmi\").alias(\"avg_bmi\"),\n",
    "    F.avg(\"systolic_bp\").alias(\"avg_systolic_bp\"),\n",
    "    F.avg(\"diastolic_bp\").alias(\"avg_diastolic_bp\"),\n",
    "    F.avg(\"heart_rate\").alias(\"avg_heart_rate\"),\n",
    "    F.avg(\"sleep_quality_score\").alias(\"avg_sleep_quality_score\"),\n",
    "    F.avg(\"spo2\").alias(\"avg_spo2\"),\n",
    "    F.avg(\"pulse_pressure\").alias(\"avg_pulse_pressure\")\n",
    ")\n",
    "\n",
    "# Show the results\n",
    "activity_level_agg.show()\n"
   ]
  },
  {
   "cell_type": "code",
   "execution_count": 7,
   "id": "03f0b6aa-18be-4bc8-9f67-9c7f07282e51",
   "metadata": {},
   "outputs": [
    {
     "name": "stderr",
     "output_type": "stream",
     "text": [
      "                                                                                \r"
     ]
    },
    {
     "name": "stdout",
     "output_type": "stream",
     "text": [
      "+-------------------+-------------------+---------------------+\n",
      "|Column1            |Column2            |Correlation          |\n",
      "+-------------------+-------------------+---------------------+\n",
      "|age                |bmi                |-0.052618195675783005|\n",
      "|age                |calories_burnt     |-0.5940629038761709  |\n",
      "|age                |step_count         |-0.49686875804236663 |\n",
      "|age                |sleep_quality_score|-0.18557614416997026 |\n",
      "|age                |health_risk_score  |0.18360075287533886  |\n",
      "|bmi                |calories_burnt     |0.05497048003302466  |\n",
      "|bmi                |step_count         |0.04982858364780363  |\n",
      "|bmi                |sleep_quality_score|0.02902933055049414  |\n",
      "|bmi                |health_risk_score  |0.6059262035973417   |\n",
      "|calories_burnt     |step_count         |0.4975369726243971   |\n",
      "|calories_burnt     |sleep_quality_score|0.11938752075761844  |\n",
      "|calories_burnt     |health_risk_score  |-0.09975065457431655 |\n",
      "|step_count         |sleep_quality_score|0.09895605521021557  |\n",
      "|step_count         |health_risk_score  |-0.0825251270359615  |\n",
      "|sleep_quality_score|health_risk_score  |-0.02792765924647588 |\n",
      "+-------------------+-------------------+---------------------+\n",
      "\n"
     ]
    }
   ],
   "source": [
    "from pyspark.sql.functions import col\n",
    "\n",
    "# List of numeric columns\n",
    "numeric_cols = [\"age\", \"bmi\", \"calories_burnt\", \"step_count\", \"sleep_quality_score\", \"health_risk_score\"]\n",
    "\n",
    "# Select only those columns from the main DataFrame\n",
    "numeric_df = df_full.select(numeric_cols)\n",
    "\n",
    "# Initialize an empty dictionary to store correlation values\n",
    "corr_dict = {}\n",
    "\n",
    "# Loop through each pair of columns and calculate correlation\n",
    "for i in range(len(numeric_cols)):\n",
    "    for j in range(i + 1, len(numeric_cols)):\n",
    "        col1 = numeric_cols[i]\n",
    "        col2 = numeric_cols[j]\n",
    "        corr_value = numeric_df.stat.corr(col1, col2)  # Compute correlation\n",
    "        corr_dict[(col1, col2)] = corr_value\n",
    "\n",
    "# Convert the correlation dictionary to a DataFrame for easier viewing\n",
    "corr_df = spark.createDataFrame(\n",
    "    [(key[0], key[1], value) for key, value in corr_dict.items()],\n",
    "    [\"Column1\", \"Column2\", \"Correlation\"]\n",
    ")\n",
    "\n",
    "# Show the correlation results\n",
    "corr_df.show(truncate=False)\n"
   ]
  }
 ],
 "metadata": {
  "kernelspec": {
   "display_name": "Python 3 (ipykernel)",
   "language": "python",
   "name": "python3"
  },
  "language_info": {
   "codemirror_mode": {
    "name": "ipython",
    "version": 3
   },
   "file_extension": ".py",
   "mimetype": "text/x-python",
   "name": "python",
   "nbconvert_exporter": "python",
   "pygments_lexer": "ipython3",
   "version": "3.10.14"
  }
 },
 "nbformat": 4,
 "nbformat_minor": 5
}
