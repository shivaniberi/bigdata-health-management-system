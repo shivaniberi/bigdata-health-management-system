{
 "cells": [
  {
   "cell_type": "code",
   "execution_count": 0,
   "metadata": {
    "application/vnd.databricks.v1+cell": {
     "cellMetadata": {
      "byteLimit": 2048000,
      "rowLimit": 10000
     },
     "inputWidgets": {},
     "nuid": "9e6dc61a-6f46-4d15-9b61-7b1621dfc9a0",
     "showTitle": false,
     "tableResultSettingsMap": {},
     "title": ""
    }
   },
   "outputs": [],
   "source": [
    "dbutils.fs.cp(\"dbfs:/FileStore/shared_uploads/reddy.pranav.gaddam@gmail.com/health_data_parquet_1.zip\", \"file:/tmp/part1.zip\")\n",
    "dbutils.fs.cp(\"dbfs:/FileStore/shared_uploads/reddy.pranav.gaddam@gmail.com/health_data_parquet_2.zip\", \"file:/tmp/part2.zip\")\n",
    "\n"
   ]
  },
  {
   "cell_type": "code",
   "execution_count": 0,
   "metadata": {
    "application/vnd.databricks.v1+cell": {
     "cellMetadata": {
      "byteLimit": 2048000,
      "rowLimit": 10000
     },
     "inputWidgets": {},
     "nuid": "f7f1f0c0-71f5-4533-b23e-8c265f41d00d",
     "showTitle": false,
     "tableResultSettingsMap": {},
     "title": ""
    }
   },
   "outputs": [],
   "source": [
    "!unzip /tmp/part1.zip -d /tmp/health_part1\n",
    "!unzip /tmp/part2.zip -d /tmp/health_part2"
   ]
  },
  {
   "cell_type": "code",
   "execution_count": 0,
   "metadata": {
    "application/vnd.databricks.v1+cell": {
     "cellMetadata": {
      "byteLimit": 2048000,
      "rowLimit": 10000
     },
     "inputWidgets": {},
     "nuid": "9cd65ccf-52cf-4f82-b932-38e576ad344c",
     "showTitle": false,
     "tableResultSettingsMap": {},
     "title": ""
    }
   },
   "outputs": [],
   "source": [
    "dbutils.fs.cp(\"file:/tmp/health_part1\", \"dbfs:/FileStore/tables/health_data_parquet_part1\", recurse=True)\n",
    "dbutils.fs.cp(\"file:/tmp/health_part2\", \"dbfs:/FileStore/tables/health_data_parquet_part2\", recurse=True)\n"
   ]
  },
  {
   "cell_type": "code",
   "execution_count": 0,
   "metadata": {
    "application/vnd.databricks.v1+cell": {
     "cellMetadata": {
      "byteLimit": 2048000,
      "rowLimit": 10000
     },
     "inputWidgets": {},
     "nuid": "038f3673-db9e-4d26-9b02-6dedd5f79a76",
     "showTitle": false,
     "tableResultSettingsMap": {},
     "title": ""
    }
   },
   "outputs": [],
   "source": [
    "display(dbutils.fs.ls(\"/FileStore/tables/\"))\n"
   ]
  },
  {
   "cell_type": "code",
   "execution_count": 0,
   "metadata": {
    "application/vnd.databricks.v1+cell": {
     "cellMetadata": {
      "byteLimit": 2048000,
      "rowLimit": 10000
     },
     "inputWidgets": {},
     "nuid": "977b1963-9f4c-4dc8-b349-b35f477dc725",
     "showTitle": false,
     "tableResultSettingsMap": {},
     "title": ""
    }
   },
   "outputs": [],
   "source": [
    "display(dbutils.fs.ls(\"/FileStore/tables/health_data_parquet_part1\"))\n",
    "display(dbutils.fs.ls(\"/FileStore/tables/health_data_parquet_part2\"))\n"
   ]
  },
  {
   "cell_type": "code",
   "execution_count": 0,
   "metadata": {
    "application/vnd.databricks.v1+cell": {
     "cellMetadata": {
      "byteLimit": 2048000,
      "rowLimit": 10000
     },
     "inputWidgets": {},
     "nuid": "545e1824-2ff0-4ca8-9fdb-127fd8770244",
     "showTitle": false,
     "tableResultSettingsMap": {},
     "title": ""
    }
   },
   "outputs": [
    {
     "name": "stdout",
     "output_type": "stream",
     "text": [
      "root\n",
      " |-- user_id: string (nullable = true)\n",
      " |-- age: integer (nullable = true)\n",
      " |-- gender: string (nullable = true)\n",
      " |-- datestamp: date (nullable = true)\n",
      " |-- height_inches: double (nullable = true)\n",
      " |-- weight_kg: double (nullable = true)\n",
      " |-- bmi: double (nullable = true)\n",
      " |-- heart_rate: double (nullable = true)\n",
      " |-- spo2: double (nullable = true)\n",
      " |-- ecg_avg: double (nullable = true)\n",
      " |-- body_temp_f: double (nullable = true)\n",
      " |-- step_count: integer (nullable = true)\n",
      " |-- calories_burnt: integer (nullable = true)\n",
      " |-- sleep_duration_hr: double (nullable = true)\n",
      " |-- sleep_quality_score: double (nullable = true)\n",
      " |-- systolic_bp: integer (nullable = true)\n",
      " |-- diastolic_bp: integer (nullable = true)\n",
      "\n",
      "+-----------+---+------+----------+-------------+---------+-----+----------+-----+-------+-----------+----------+--------------+-----------------+-------------------+-----------+------------+\n",
      "|    user_id|age|gender| datestamp|height_inches|weight_kg|  bmi|heart_rate| spo2|ecg_avg|body_temp_f|step_count|calories_burnt|sleep_duration_hr|sleep_quality_score|systolic_bp|diastolic_bp|\n",
      "+-----------+---+------+----------+-------------+---------+-----+----------+-----+-------+-----------+----------+--------------+-----------------+-------------------+-----------+------------+\n",
      "|user_000000| 26|Female|2024-02-25|         65.1|     95.1| 34.8|      78.4| 99.6|   53.4|       98.1|      4362|          1877|              6.9|                6.8|        120|          78|\n",
      "|user_000000| 26|Female|2024-04-22|         65.1|     95.1| 34.8|      78.2|100.0|   52.7|       97.7|      2483|          1763|              6.9|                7.7|        131|          83|\n",
      "|user_000001| 38|Female|2022-01-04|         66.2|     82.4|29.14|      66.5| 97.2|   68.6|       98.6|      5831|          1764|              7.0|               10.0|        126|          90|\n",
      "|user_000001| 38|Female|2022-01-16|         66.2|     82.4|29.14|      64.3| 96.1|   68.9|       98.1|      7796|          1913|              8.3|                8.3|        120|          91|\n",
      "|user_000001| 38|Female|2022-03-18|         66.2|     82.4|29.14|      72.0| 96.6|   68.9|       98.5|      3290|          1675|              7.3|                9.5|        132|          87|\n",
      "+-----------+---+------+----------+-------------+---------+-----+----------+-----+-------+-----------+----------+--------------+-----------------+-------------------+-----------+------------+\n",
      "only showing top 5 rows\n",
      "\n"
     ]
    }
   ],
   "source": [
    "# Load from nested folders where actual .parquet files are located\n",
    "df1 = spark.read.parquet(\"/FileStore/tables/health_data_parquet_part1/health_data_parquet_1/\")\n",
    "df2 = spark.read.parquet(\"/FileStore/tables/health_data_parquet_part2/health_data_parquet_2/\")\n",
    "\n",
    "# Combine both parts\n",
    "df = df1.unionByName(df2)\n",
    "\n",
    "# Show schema and sample\n",
    "df.printSchema()\n",
    "df.show(5)\n"
   ]
  },
  {
   "cell_type": "code",
   "execution_count": 0,
   "metadata": {
    "application/vnd.databricks.v1+cell": {
     "cellMetadata": {
      "byteLimit": 2048000,
      "rowLimit": 10000
     },
     "inputWidgets": {},
     "nuid": "418ef91a-2d9c-4fc7-8d41-820c1440e077",
     "showTitle": false,
     "tableResultSettingsMap": {},
     "title": ""
    }
   },
   "outputs": [],
   "source": [
    "from pyspark.sql.functions import col\n",
    "\n",
    "df = df.withColumn(\"risk_score\", \n",
    "    0.3 * (col(\"systolic_bp\") / 180) +\n",
    "    0.2 * (col(\"heart_rate\") / 150) +\n",
    "    0.2 * ((100 - col(\"spo2\")) / 100) +\n",
    "    0.15 * ((8 - col(\"sleep_duration_hr\")) / 8) +\n",
    "    0.15 * ((10 - col(\"sleep_quality_score\")) / 10)\n",
    ")\n"
   ]
  },
  {
   "cell_type": "code",
   "execution_count": 0,
   "metadata": {
    "application/vnd.databricks.v1+cell": {
     "cellMetadata": {
      "byteLimit": 2048000,
      "rowLimit": 10000
     },
     "inputWidgets": {},
     "nuid": "dcba9feb-f062-4f8d-92cb-a28bb166209e",
     "showTitle": false,
     "tableResultSettingsMap": {},
     "title": ""
    }
   },
   "outputs": [],
   "source": [
    "selected_features = [\"age\", \"calories_burnt\", \"step_count\"]\n",
    "label_col = \"risk_score\"\n",
    "\n",
    "# Drop rows with nulls\n",
    "df_clean = df.select(label_col, *selected_features).dropna()\n"
   ]
  },
  {
   "cell_type": "code",
   "execution_count": 0,
   "metadata": {
    "application/vnd.databricks.v1+cell": {
     "cellMetadata": {
      "byteLimit": 2048000,
      "rowLimit": 10000
     },
     "inputWidgets": {},
     "nuid": "8a360b16-1e78-4838-b1f7-90c29613a6fa",
     "showTitle": false,
     "tableResultSettingsMap": {},
     "title": ""
    }
   },
   "outputs": [],
   "source": [
    "from pyspark.ml.feature import VectorAssembler\n",
    "\n",
    "assembler = VectorAssembler(inputCols=selected_features, outputCol=\"features\")\n",
    "assembled_df = assembler.transform(df_clean).select(\"features\", label_col)\n"
   ]
  },
  {
   "cell_type": "code",
   "execution_count": 0,
   "metadata": {
    "application/vnd.databricks.v1+cell": {
     "cellMetadata": {
      "byteLimit": 2048000,
      "rowLimit": 10000
     },
     "inputWidgets": {},
     "nuid": "2441551c-38bc-47f1-9133-90964347f0ed",
     "showTitle": false,
     "tableResultSettingsMap": {},
     "title": ""
    }
   },
   "outputs": [],
   "source": [
    "train_df, test_df = assembled_df.randomSplit([0.8, 0.2], seed=42)\n"
   ]
  },
  {
   "cell_type": "code",
   "execution_count": 0,
   "metadata": {
    "application/vnd.databricks.v1+cell": {
     "cellMetadata": {
      "byteLimit": 2048000,
      "rowLimit": 10000
     },
     "inputWidgets": {},
     "nuid": "8537150e-bfb2-4187-9ec9-bdb9b0c986a2",
     "showTitle": false,
     "tableResultSettingsMap": {},
     "title": ""
    }
   },
   "outputs": [],
   "source": [
    "from pyspark.ml.regression import LinearRegression\n",
    "\n",
    "lr = LinearRegression(featuresCol=\"features\", labelCol=label_col, maxIter=10)\n",
    "model = lr.fit(train_df)\n"
   ]
  },
  {
   "cell_type": "code",
   "execution_count": 0,
   "metadata": {
    "application/vnd.databricks.v1+cell": {
     "cellMetadata": {
      "byteLimit": 2048000,
      "rowLimit": 10000
     },
     "inputWidgets": {},
     "nuid": "64133510-8860-4f0b-bd89-27da44459983",
     "showTitle": false,
     "tableResultSettingsMap": {},
     "title": ""
    }
   },
   "outputs": [
    {
     "name": "stdout",
     "output_type": "stream",
     "text": [
      "RMSE: 0.04943707981196163\n"
     ]
    }
   ],
   "source": [
    "predictions = model.transform(test_df)\n",
    "\n",
    "from pyspark.ml.evaluation import RegressionEvaluator\n",
    "\n",
    "evaluator = RegressionEvaluator(labelCol=label_col, predictionCol=\"prediction\", metricName=\"rmse\")\n",
    "rmse = evaluator.evaluate(predictions)\n",
    "print(f\"RMSE: {rmse}\")\n"
   ]
  },
  {
   "cell_type": "code",
   "execution_count": 0,
   "metadata": {
    "application/vnd.databricks.v1+cell": {
     "cellMetadata": {},
     "inputWidgets": {},
     "nuid": "a9fd5622-d317-4a40-b9d5-2471895cdd13",
     "showTitle": false,
     "tableResultSettingsMap": {},
     "title": ""
    }
   },
   "outputs": [],
   "source": []
  }
 ],
 "metadata": {
  "application/vnd.databricks.v1+notebook": {
   "computePreferences": null,
   "dashboards": [],
   "environmentMetadata": {
    "base_environment": "",
    "environment_version": "1"
   },
   "inputWidgetPreferences": null,
   "language": "python",
   "notebookMetadata": {
    "pythonIndentUnit": 4
   },
   "notebookName": "Gradient Boosting Model",
   "widgets": {}
  },
  "language_info": {
   "name": "python"
  }
 },
 "nbformat": 4,
 "nbformat_minor": 0
}
